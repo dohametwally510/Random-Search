{
 "cells": [
  {
   "cell_type": "code",
   "execution_count": 42,
   "id": "0965ab5a",
   "metadata": {},
   "outputs": [],
   "source": [
    "import numpy as np\n",
    "import pandas as pd\n",
    "import matplotlib.pyplot as plt\n",
    "from matplotlib.widgets import Cursor\n",
    "import random\n",
    "from copy import deepcopy"
   ]
  },
  {
   "cell_type": "code",
   "execution_count": null,
   "id": "07b8b2be",
   "metadata": {},
   "outputs": [],
   "source": []
  },
  {
   "cell_type": "code",
   "execution_count": 43,
   "id": "2186a45d",
   "metadata": {},
   "outputs": [],
   "source": [
    "df = pd.read_excel(\"15-Points.xlsx\")"
   ]
  },
  {
   "cell_type": "code",
   "execution_count": 44,
   "id": "ec3a009c",
   "metadata": {},
   "outputs": [],
   "source": [
    "class Tour:\n",
    "    def __init__(self, cities_list):\n",
    "        self.fitness = 0\n",
    "        self.cost = 0\n",
    "        self.cities = cities_list\n",
    "         \n",
    "    def __repr__(self):\n",
    "        return f\"{self.cities}\\nCost = {self.cost}\""
   ]
  },
  {
   "cell_type": "code",
   "execution_count": 45,
   "id": "94ca57b0",
   "metadata": {},
   "outputs": [],
   "source": [
    "class City:\n",
    "    def __init__(self, n, x, y):\n",
    "        self.name = n\n",
    "        self.x_coor = x\n",
    "        self.y_coor = y\n",
    "        \n",
    "    def __repr__(self):\n",
    "        return f\"{self.name}\""
   ]
  },
  {
   "cell_type": "code",
   "execution_count": 46,
   "id": "426b40ba",
   "metadata": {},
   "outputs": [],
   "source": [
    "# Set random seed for reproducibility\n",
    "np.random.seed(42)"
   ]
  },
  {
   "cell_type": "markdown",
   "id": "321bf112",
   "metadata": {},
   "source": [
    "### Read the data"
   ]
  },
  {
   "cell_type": "code",
   "execution_count": 47,
   "id": "eb9b6e38",
   "metadata": {},
   "outputs": [],
   "source": [
    "def read_data(data):\n",
    "    data_list = []\n",
    "    m = data.shape[0]  \n",
    "    for i in range(m):\n",
    "        data_list.append(City(data['City'][i], data['x'][i], data['y'][i]))\n",
    "        \n",
    "    return data_list"
   ]
  },
  {
   "cell_type": "code",
   "execution_count": 48,
   "id": "a38e5dce",
   "metadata": {},
   "outputs": [],
   "source": [
    "def get_distance(city1, city2):\n",
    "    x = city1.x_coor - city2.x_coor\n",
    "    y = city1.y_coor - city2.y_coor\n",
    "    distance = np.sqrt((x ** 2) + (y ** 2))\n",
    "    return distance"
   ]
  },
  {
   "cell_type": "code",
   "execution_count": 49,
   "id": "87ea9f38",
   "metadata": {},
   "outputs": [],
   "source": [
    "def distance_matrix(tour):\n",
    "    m = len(tour)\n",
    "    matrix = np.zeros ((m, m))\n",
    "    for i in range(m):\n",
    "        for j in range(m):\n",
    "            matrix[i][j] = get_distance(tour[i], tour[j])\n",
    "            \n",
    "    return matrix"
   ]
  },
  {
   "cell_type": "code",
   "execution_count": 50,
   "id": "ea8eb539",
   "metadata": {},
   "outputs": [],
   "source": [
    "def get_tour_cost(tour, dist_matrix):\n",
    "#     print(\"***** Get Tour Cost *****\")\n",
    "    cost = 0\n",
    "    for i in range(len(tour.cities)-1):\n",
    "        city1 = tour.cities[i]\n",
    "        city2 = tour.cities[i+1]\n",
    "        cost += dist_matrix[(city1.name)-1, (city2.name)-1] # indicies\n",
    "    # cost of returning back to the starting point\n",
    "    cost += get_distance(tour.cities[-1], tour.cities[0])\n",
    "\n",
    "    return cost"
   ]
  },
  {
   "cell_type": "code",
   "execution_count": 51,
   "id": "723e5b30",
   "metadata": {},
   "outputs": [],
   "source": [
    "def get_tour_fitness(tour, dist_matrix):\n",
    "#     print(\"***** Get Tour Fitness *****\")\n",
    "    fitness = 1/get_tour_cost(tour, dist_matrix)\n",
    "    return fitness"
   ]
  },
  {
   "cell_type": "code",
   "execution_count": 52,
   "id": "0a1da18a",
   "metadata": {},
   "outputs": [],
   "source": [
    "def initialize_population(data_lst, pop_size, dist_matrix):\n",
    "#     print(\"***** Initial Population *****\")\n",
    "    population = []\n",
    "    for i in range(pop_size):\n",
    "        tour = Tour(list(np.random.permutation(data_lst)))\n",
    "        tour.cost = get_tour_cost(tour, dist_matrix)\n",
    "        tour.fitness = get_tour_fitness(tour, dist_matrix)\n",
    "        population.append(tour)\n",
    "        \n",
    "    return population"
   ]
  },
  {
   "cell_type": "code",
   "execution_count": 53,
   "id": "4d96962f",
   "metadata": {},
   "outputs": [],
   "source": [
    "def elitism(population, elite_num):\n",
    "#     print(\"***** Elitism Selection *****\")\n",
    "    sorted_pop = sorted(population, key=lambda tour: tour.fitness, reverse=True)\n",
    "    return sorted_pop[:elite_num]"
   ]
  },
  {
   "cell_type": "code",
   "execution_count": 54,
   "id": "b51b1e79",
   "metadata": {},
   "outputs": [],
   "source": [
    "def tournament_selection(pop):\n",
    "    candidates = random.choices(pop, k=5)\n",
    "#     print(\"***** Tournament Selection *****\")\n",
    "    return max(candidates, key = lambda x: x.fitness)"
   ]
  },
  {
   "cell_type": "code",
   "execution_count": 55,
   "id": "c2badd77",
   "metadata": {},
   "outputs": [],
   "source": [
    "def PMC_crossover(parent1, parent2, distance_matrix):\n",
    "    crossover_point = random.choices(range(len(parent1.cities)), k=2)\n",
    "    r1 = min(crossover_point)\n",
    "    r2 = max(crossover_point)\n",
    "    \n",
    "    child1 = deepcopy(parent1)\n",
    "    child2 = deepcopy(parent2)\n",
    "    \n",
    "    for i in range(r1, r2):\n",
    "        temp1 = parent2.cities[i]\n",
    "        temp2 = parent1.cities[i]\n",
    "        \n",
    "        indx1 = [c.name for c in child1.cities].index(temp1.name)\n",
    "        indx2 = [c.name for c in child2.cities].index(temp2.name)\n",
    "        \n",
    "        child1.cities[indx1] = child1.cities[i]   \n",
    "        child2.cities[indx2] = child2.cities[i]\n",
    "        \n",
    "        child1.cities[i] = temp1\n",
    "        child2.cities[i] = temp2\n",
    "       \n",
    "    child1.cost = get_tour_cost(child1, distance_matrix)\n",
    "    child2.cost = get_tour_cost(child2, distance_matrix)\n",
    "\n",
    "    child1.fitness = 1/child1.cost\n",
    "    child2.fitness = 1/child2.cost\n",
    "    \n",
    "    return child1, child2"
   ]
  },
  {
   "cell_type": "code",
   "execution_count": 56,
   "id": "f591286a",
   "metadata": {},
   "outputs": [],
   "source": [
    "def crossover(pop_size, crossover_prob, oldpop, distance_matrix):\n",
    "#     print(\"***** Crossover *****\")\n",
    "    new_pop = []\n",
    "    while True:\n",
    "        parent1 = tournament_selection(oldpop)\n",
    "        parent2 = tournament_selection(oldpop)\n",
    "        rand_num = random.uniform(0,1)\n",
    "\n",
    "        # apply partial crossover\n",
    "        if rand_num < crossover_prob:\n",
    "            child1, child2 = PMC_crossover(parent1, parent2, distance_matrix)   \n",
    "\n",
    "            new_pop.append(child1)\n",
    "            new_pop.append(child2)\n",
    "\n",
    "        else:\n",
    "            new_pop.append(parent1)\n",
    "            new_pop.append(parent2)\n",
    "            \n",
    "        if len(new_pop) == pop_size:\n",
    "            return new_pop"
   ]
  },
  {
   "cell_type": "code",
   "execution_count": 57,
   "id": "637ea9ef",
   "metadata": {},
   "outputs": [],
   "source": [
    "def tour_mutation(tour):\n",
    "#     print(\"***** Tour Mutation *****\")\n",
    "    tour_length = len(tour.cities)\n",
    "    swap_points = np.random.choice(np.arange(0, tour_length), size= 2, replace=False)\n",
    "    c1, c2 = min(swap_points), max(swap_points)\n",
    "    # swap cities then return the route again\n",
    "    tour.cities[c1], tour.cities[c2] = tour.cities[c2], tour.cities[c1]\n",
    "    return tour"
   ]
  },
  {
   "cell_type": "code",
   "execution_count": 58,
   "id": "5feaef4d",
   "metadata": {},
   "outputs": [],
   "source": [
    "def mutation(pop_size, pop, elite_num, mutation_prob, dist_matrix):\n",
    "#     print(\"***** Mutation *****\")\n",
    "    mutation_size = mutation_prob * pop_size\n",
    "    rand_tours = np.random.choice(np.arange(elite_num, pop_size), size = round(mutation_size), replace=False)\n",
    "    rand_num = random.uniform(0,1)\n",
    "#     if rand_num < mutation_prob:\n",
    "    for tour in rand_tours:\n",
    "        pop[tour] = tour_mutation(pop[tour])\n",
    "        pop[tour].cost = get_tour_cost(pop[tour], dist_matrix)\n",
    "        pop[tour].fitness = 1 / pop[tour].cost\n",
    "\n",
    "    return pop"
   ]
  },
  {
   "cell_type": "code",
   "execution_count": null,
   "id": "7ebbf61f",
   "metadata": {},
   "outputs": [],
   "source": []
  },
  {
   "cell_type": "code",
   "execution_count": null,
   "id": "5b5df5ca",
   "metadata": {},
   "outputs": [],
   "source": []
  },
  {
   "cell_type": "code",
   "execution_count": null,
   "id": "599f5282",
   "metadata": {},
   "outputs": [],
   "source": []
  },
  {
   "cell_type": "code",
   "execution_count": 59,
   "id": "3e43d155",
   "metadata": {},
   "outputs": [],
   "source": [
    "def Gene_Algo(pop_size, oldpop, num_elite, mutation_prob, crossover_prob, distance_matrix):\n",
    "    newpop = []\n",
    "\n",
    "    elites = elitism(oldpop, num_elite)\n",
    "    newpop.extend(elites)\n",
    "\n",
    "    newpop = crossover(pop_size, crossover_prob, oldpop, distance_matrix)\n",
    "    newpop = mutation(pop_size, newpop, num_elite, mutation_prob, distance_matrix)\n",
    "\n",
    "    return newpop"
   ]
  },
  {
   "cell_type": "code",
   "execution_count": 60,
   "id": "3a4482c0",
   "metadata": {},
   "outputs": [],
   "source": [
    "def algorithm(data):\n",
    "    # initialize parameters\n",
    "    mutation_prob = 0.1\n",
    "    crossover_prob = 0.6\n",
    "    population_size = 50\n",
    "    num_elite = 2\n",
    "    num_generations = 100\n",
    "    \n",
    "    lst = read_data(data)\n",
    "    dist_matrix = distance_matrix(lst)\n",
    "    population = initialize_population(lst, population_size, dist_matrix)\n",
    "    \n",
    "    for i in range (num_generations):   \n",
    "        population = Gene_Algo(population_size, population, num_elite, mutation_prob, crossover_prob, dist_matrix)\n",
    "        population = elitism(population, num_elite)\n",
    "\n",
    "    result = elitism(population, num_elite)[0]\n",
    "    result.cities.append(result.cities[0])\n",
    "    print(\"Final Cost:\", result)\n",
    "    return result"
   ]
  },
  {
   "cell_type": "code",
   "execution_count": null,
   "id": "bbf86ad4",
   "metadata": {},
   "outputs": [],
   "source": []
  },
  {
   "cell_type": "code",
   "execution_count": 61,
   "id": "1327d4f9",
   "metadata": {},
   "outputs": [
    {
     "name": "stdout",
     "output_type": "stream",
     "text": [
      "Final Cost: [11, 1, 13, 2, 15, 9, 5, 7, 3, 12, 14, 10, 8, 6, 4, 11]\n",
      "Cost = 284.38109040803323\n"
     ]
    }
   ],
   "source": [
    "ans = algorithm(df)"
   ]
  },
  {
   "cell_type": "code",
   "execution_count": 62,
   "id": "c0918b7c",
   "metadata": {},
   "outputs": [
    {
     "data": {
      "image/png": "[encoded data removed]",
      "text/plain": [
       "<Figure size 640x480 with 1 Axes>"
      ]
     },
     "metadata": {},
     "output_type": "display_data"
    }
   ],
   "source": [
    "X = [city.x_coor  for city in ans.cities]\n",
    "Y = [city.y_coor  for city in ans.cities]\n",
    "plt.plot(X, Y, '-o')\n",
    "plt.title(f'Genetic Algorithm for TSP Path with cost = {ans.cost}')\n",
    "plt.xlabel('Longitude')\n",
    "plt.ylabel('Latitude')\n",
    "plt.grid()\n",
    "plt.show()"
   ]
  }
 ],
 "metadata": {
  "kernelspec": {
   "display_name": "Python 3 (ipykernel)",
   "language": "python",
   "name": "python3"
  },
  "language_info": {
   "codemirror_mode": {
    "name": "ipython",
    "version": 3
   },
   "file_extension": ".py",
   "mimetype": "text/x-python",
   "name": "python",
   "nbconvert_exporter": "python",
   "pygments_lexer": "ipython3",
   "version": "3.9.13"
  }
 },
 "nbformat": 4,
 "nbformat_minor": 5
}
